{
  "nbformat": 4,
  "nbformat_minor": 0,
  "metadata": {
    "colab": {
      "provenance": []
    },
    "kernelspec": {
      "name": "python3",
      "display_name": "Python 3"
    },
    "language_info": {
      "name": "python"
    }
  },
  "cells": [
    {
      "cell_type": "code",
      "source": [
        "#@title Baixando a planilha\n",
        "!gdown --id 1jGACLDvsHYvjhFFEbMDg3jtjftCL2jmA\n"
      ],
      "metadata": {
        "cellView": "form",
        "id": "IBswGjDbMc16"
      },
      "execution_count": null,
      "outputs": []
    },
    {
      "cell_type": "code",
      "execution_count": 55,
      "metadata": {
        "id": "641T661PdeVf",
        "cellView": "form"
      },
      "outputs": [],
      "source": [
        "#@title Código\n",
        "import pandas as pd\n",
        "import numpy as np"
      ]
    },
    {
      "cell_type": "code",
      "source": [
        "#@title Declarando a planilha\n",
        "# read the csv file\n",
        "results = pd.read_csv('/content/Pasta1.csv',sep=';' , encoding='latin-1')\n"
      ],
      "metadata": {
        "id": "9zCBR6YjdxQx",
        "cellView": "form"
      },
      "execution_count": 56,
      "outputs": []
    },
    {
      "cell_type": "code",
      "source": [
        "#@title Código\n",
        "com_trombocitopenia = results[results['Trombocitopenia'].str.contains('sim', case = False,na=False)]\n",
        "com_agredados_plaquetarios = results[results['Agregados Plaquetarios'].str.contains('sim',na=False, case = False)]\n",
        "com_ambos = results[(results['Trombocitopenia'].str.contains('sim',na=False, case = False)) & (results['Agregados Plaquetarios'].str.contains('sim',na=False, case = False))]\n",
        "com_nenhuma = results[(results['Trombocitopenia'].str.contains('nao',na=False, case = False)) & (results['Agregados Plaquetarios'].str.contains('nao',na=False, case = False))]\n",
        "sem_nada = results[results['Outras alterações'].str.contains('NaN',na=True, case = False)& (results['Trombocitopenia'].str.contains('nao',na=False, case = False))& (results['Agregados Plaquetarios'].str.contains('nao',na=False, case = False))]\n",
        "com_nenhuma_filtrada = pd.merge(com_nenhuma,sem_nada, indicator=True, how='outer').query('_merge==\"left_only\"').drop('_merge', axis=1)\n",
        "outras_alteracoes = results.dropna(axis = 0,how = 'any')\n",
        "tipos_de_alteracoes = list(outras_alteracoes['Outras alterações'].unique())"
      ],
      "metadata": {
        "id": "I1pJjDIBl076",
        "cellView": "form"
      },
      "execution_count": 57,
      "outputs": []
    },
    {
      "cell_type": "code",
      "source": [
        "#@title Código\n",
        "idades = []\n",
        "for i in range(1,12):\n",
        "  if i == 1: \n",
        "    a = f'{i} mes'\n",
        "  else:\n",
        "    a = f'{i} meses'\n",
        "  idades.append(a)\n",
        "for i in range(1,20):\n",
        "  if i == 1: \n",
        "    a = f'{i} ano'\n",
        "  else:\n",
        "    a = f'{i} anos'\n",
        "  idades.append(a)\n"
      ],
      "metadata": {
        "id": "SZ8Q901fJUVz",
        "cellView": "form"
      },
      "execution_count": 58,
      "outputs": []
    },
    {
      "cell_type": "code",
      "source": [
        "#@title Código\n",
        "# for i in range(0,len(idades)):\n",
        "#   b = a.count(idades[i])\n",
        "#   if b != 0:\n",
        "#     print(f'animais com {idades[i]}: {a.count(idades[i])}')"
      ],
      "metadata": {
        "id": "GrrMdVMMXrxz",
        "cellView": "form"
      },
      "execution_count": 59,
      "outputs": []
    },
    {
      "cell_type": "code",
      "source": [
        "#@title Código\n",
        "# a = list(com_trombocitopenia['Idade '])\n",
        "# com_trombocitopenia.reset_index(inplace=True,drop = True)\n"
      ],
      "metadata": {
        "id": "SKU5J0q9ah4P",
        "cellView": "form"
      },
      "execution_count": 60,
      "outputs": []
    },
    {
      "cell_type": "code",
      "source": [
        "#@title Código\n",
        "setando_tipos_de_alteracoes_unicas = set(tipos_de_alteracoes)\n",
        "tipos_de_alteracoes_unicas = list(setando_tipos_de_alteracoes_unicas)"
      ],
      "metadata": {
        "id": "CV_elQoNg56t",
        "cellView": "form"
      },
      "execution_count": 61,
      "outputs": []
    },
    {
      "cell_type": "code",
      "source": [
        "#@title Animais com Trombocitopenia\n",
        "print(f'Total de animais com trombocitopenia: {len(com_trombocitopenia)}, desse total:')\n",
        "print(f'{len(com_trombocitopenia)-len(com_ambos)} possuem apenas trombocitopenia;')\n",
        "print(f'{len(com_trombocitopenia[com_trombocitopenia[\"Sexo\"].str.contains(\"m\", case = False)])} são machos e {len(com_trombocitopenia[com_trombocitopenia[\"Sexo\"].str.contains(\"f\", case = False)])} são fêmeas :')\n",
        "a = list(com_trombocitopenia['Idade '])\n",
        "a= [x.strip(' ') for x in a]\n",
        "a=[x.lower() for x in a]\n",
        "for i in range(0,len(idades)):\n",
        "  b = a.count(idades[i])\n",
        "  if b != 0:\n",
        "    print(f'animais com {idades[i]}: {a.count(idades[i])}')\n",
        "alt = list(com_trombocitopenia['Outras alterações'])\n",
        "for i in range(0,len(tipos_de_alteracoes_unicas)):\n",
        "  b = alt.count(tipos_de_alteracoes_unicas[i])\n",
        "  if b != 0:\n",
        "    print(f'animais com {tipos_de_alteracoes_unicas[i]}: {alt.count(tipos_de_alteracoes_unicas[i])}')"
      ],
      "metadata": {
        "colab": {
          "base_uri": "https://localhost:8080/"
        },
        "id": "0ywbsjLAGXAH",
        "outputId": "f77ad4df-b662-4ac2-d439-ba7333240576",
        "cellView": "form"
      },
      "execution_count": 62,
      "outputs": [
        {
          "output_type": "stream",
          "name": "stdout",
          "text": [
            "Total de animais com trombocitopenia: 88, desse total:\n",
            "43 possuem apenas trombocitopenia;\n",
            "33 são machos e 55 são fêmeas :\n",
            "animais com 2 meses: 2\n",
            "animais com 3 meses: 3\n",
            "animais com 4 meses: 1\n",
            "animais com 5 meses: 2\n",
            "animais com 6 meses: 4\n",
            "animais com 7 meses: 3\n",
            "animais com 8 meses: 4\n",
            "animais com 9 meses: 2\n",
            "animais com 10 meses: 2\n",
            "animais com 1 ano: 20\n",
            "animais com 2 anos: 17\n",
            "animais com 3 anos: 8\n",
            "animais com 4 anos: 5\n",
            "animais com 5 anos: 6\n",
            "animais com 7 anos: 4\n",
            "animais com 8 anos: 1\n",
            "animais com 10 anos: 3\n",
            "animais com 13 anos: 1\n",
            "animais com LEUCOCITOSE POR NEUTROFILIA : 3\n",
            "animais com LEUCOCITOSE POR EOSINOFILIA: 1\n",
            "animais com MACROPLAQUETAS E HEMACIAS AGLUTINADAS: 3\n",
            "animais com LEUCOCITOSE POR LINFOCITOSE E EOSINOFILIA E NEUTROFILIA.: 1\n",
            "animais com LEUCOSITOSE POR EOSINOFILIA : 1\n",
            "animais com MACROPLAQUETAS E LEUCOCITOSE POR NEUTROFILIA : 1\n",
            "animais com LEUCOCITOSE POR NEUTROFILIA: 4\n",
            "animais com HEMACIAS AGLUTINADAS: 1\n",
            "animais com LEUCOCITOSE POR NEUTROFILIA E POLICITEMIA: 1\n",
            "animais com LEUCOCITOSE POR EOSINOFILIA : 1\n",
            "animais com LEUCOPENIA POR NEUTROPENIA E LINFOPENIA: 1\n",
            "animais com MACROPLAQUETAS E LEUCOCITOSE POR LINFOCITOSE : 1\n",
            "animais com LEUCOCITOSE POR LINFOCITOSE : 1\n",
            "animais com LEUCOCITOSE POR EOSINOFILIA E NEUTROFILIA : 3\n",
            "animais com LEUCOCITOSE POR NEUTROFILIA E MACROPLAQUETAS: 2\n",
            "animais com LEUCOCITOSE POR LINFOSITOSE : 1\n",
            "animais com LEUCOPENEIA  POR LINFOPENIA E EOSINOPENIA : 1\n",
            "animais com MACROPLAQUETAS: 6\n",
            "animais com LEUCOCITOSE POR MONOCITOSE E NEUTROFILIA : 1\n",
            "animais com LEUCOCITOSE POR NEUTROFILIA E EOSINOFILIA: 2\n",
            "animais com LEUCOCITOSE POR NEUTRIFILIA E EUSINOFILIA : 1\n",
            "animais com LEUCOCITOSE POR LINFOCITOSE E EOSINOFILIA: 2\n",
            "animais com LEUCOCITOSE POR NEUTROFILIA E ANEMIA : 1\n",
            "animais com ANEMIA: 1\n"
          ]
        }
      ]
    },
    {
      "cell_type": "code",
      "source": [
        "#@title Código\n",
        "# # Permanently changes the pandas settings\n",
        "# pd.set_option('display.max_rows', None)\n",
        "# pd.set_option('display.max_columns', None)\n",
        "# pd.set_option('display.width', None)\n",
        "# pd.set_option('display.max_colwidth', -1)\n",
        " \n",
        "# # All dataframes hereafter reflect these changes.\n",
        "# display(com_agredados_plaquetarios)\n",
        " \n",
        "# print('**RESET_OPTIONS**')\n",
        " \n",
        "# # Resets the options\n",
        "# pd.reset_option('all')\n",
        "# display(com_agredados_plaquetarios)\n",
        "\n",
        "# ##trombocitounicos = list(com_trombocitopenia['Outras alterações'].unique())"
      ],
      "metadata": {
        "id": "R34W2TeBGSyd",
        "cellView": "form"
      },
      "execution_count": 63,
      "outputs": []
    },
    {
      "cell_type": "code",
      "source": [
        "#@title Agregados Planetarios\n",
        "print(f'Total de animais com Agregados Plaquetarios: {len(com_agredados_plaquetarios)}, desse total:')\n",
        "print(f'{len(com_agredados_plaquetarios)-len(com_ambos)} possuem apenas agregados plaquetarios;')\n",
        "print(f'{len(com_agredados_plaquetarios[com_agredados_plaquetarios[\"Sexo\"].str.contains(\"m\", case = False)])} são machos e {len(com_agredados_plaquetarios[com_agredados_plaquetarios[\"Sexo\"].str.contains(\"f\", case = False)])} são fêmeas :')\n",
        "idade_agreg = list(com_agredados_plaquetarios['Idade '])\n",
        "idade_agreg= [x.strip(' ') for x in idade_agreg]\n",
        "idade_agreg=[x.lower() for x in idade_agreg]\n",
        "if idade_agreg.count('n. i.') > 0:\n",
        "  print(f'O numero de animais com idades inválidas é igual a: {idade_agreg.count(\"n. i.\")}')\n",
        "for i in range(0,len(idades)):\n",
        "  b = idade_agreg.count(idades[i])\n",
        "  if b != 0:\n",
        "    print(f'animais com {idades[i]}: {idade_agreg.count(idades[i])}')\n",
        "\n",
        "# for i in range(0,len(tipos_de_alteracoes)):\n",
        "#   a =com_agredados_plaquetarios['Outras alterações'].str.contains(tipos_de_alteracoes[i],case = False).sum()\n",
        "#   if a !=0 :\n",
        "#     print(f'N° de animais com trombocitopenia e {tipos_de_alteracoes[i]}: {a}')\n",
        "alt = list(com_agredados_plaquetarios['Outras alterações'])\n",
        "for i in range(0,len(tipos_de_alteracoes_unicas)):\n",
        "  b = alt.count(tipos_de_alteracoes_unicas[i])\n",
        "  if b != 0:\n",
        "    print(f'animais com {tipos_de_alteracoes_unicas[i]}: {alt.count(tipos_de_alteracoes_unicas[i])}')\n"
      ],
      "metadata": {
        "colab": {
          "base_uri": "https://localhost:8080/"
        },
        "id": "6iTAwu9pTP1J",
        "outputId": "926d8755-bc53-46ed-c73b-1f169a0f21ab",
        "cellView": "form"
      },
      "execution_count": 64,
      "outputs": [
        {
          "output_type": "stream",
          "name": "stdout",
          "text": [
            "Total de animais com Agregados Plaquetarios: 102, desse total:\n",
            "57 possuem apenas agregados plaquetarios;\n",
            "36 são machos e 66 são fêmeas :\n",
            "O numero de animais com idades inválidas é igual a: 1\n",
            "animais com 1 mes: 1\n",
            "animais com 2 meses: 3\n",
            "animais com 3 meses: 2\n",
            "animais com 4 meses: 1\n",
            "animais com 5 meses: 2\n",
            "animais com 6 meses: 8\n",
            "animais com 7 meses: 4\n",
            "animais com 8 meses: 4\n",
            "animais com 9 meses: 1\n",
            "animais com 10 meses: 5\n",
            "animais com 1 ano: 26\n",
            "animais com 2 anos: 15\n",
            "animais com 3 anos: 8\n",
            "animais com 4 anos: 4\n",
            "animais com 5 anos: 7\n",
            "animais com 6 anos: 1\n",
            "animais com 7 anos: 3\n",
            "animais com 8 anos: 2\n",
            "animais com 10 anos: 2\n",
            "animais com 11 anos: 1\n",
            "animais com 15 anos: 1\n",
            "animais com LEUCOCITOSE POR NEUTROFILIA : 4\n",
            "animais com LEUCOSITOSE POR EOSINOFILA: 1\n",
            "animais com LEUCOCITOSE POR EOSINOFILIA: 1\n",
            "animais com MACROPLAQUETAS E HEMACIAS AGLUTINADAS: 1\n",
            "animais com LEUCOCITOSE POR LINFOCITOSE E EOSINOFILIA E NEUTROFILIA.: 1\n",
            "animais com LEUCOSITOSE POR EOSINOFILIA : 1\n",
            "animais com LEUCOCITOSE POR EOSINOFILIA E NEUTROFILIAE MACROPLAQUETAS: 1\n",
            "animais com LEUCOCITOSE POR NEUTROFILIA: 12\n",
            "animais com POLICITEMIA E LEUCOCITOSE POR NEUTROFILIA: 1\n",
            "animais com HEMACIAS AGLUTINADAS: 1\n",
            "animais com LEUCOCITOSE POR NEUTROFILIA E POLICITEMIA: 1\n",
            "animais com LEUCOCITOSE POR EOSINOFILIA : 1\n",
            "animais com LEUCOCITOSE POR LINFOCITOSE : 1\n",
            "animais com LEUCOCITOSE POR EOSINOFILIA E NEUTROFILIA : 5\n",
            "animais com MACROPLAQUETAS E LEUCOCITOSE POR NEUTROFIIA : 1\n",
            "animais com LEUCOCITOSE POR NEUTROFILIA E MACROPLAQUETAS: 3\n",
            "animais com MACROPLAQUETAS: 5\n",
            "animais com LEUCOCITOSE POR NEUTROFILIA E EOSINOFILIA: 2\n",
            "animais com LEUCOCITOSE POR NEUTRIFILIA E EUSINOFILIA : 1\n",
            "animais com MICROCITOSE: 1\n",
            "animais com LEUCOCITOSE POR LINFOCITOSE E EOSINOFILIA: 2\n"
          ]
        }
      ]
    },
    {
      "cell_type": "code",
      "source": [
        "#@title Animais com trombocitopenia e agregados planetarios(ambos)\n",
        "print(f'Total de animais com trombocitopenia e agregados plaquetarios: {len(com_ambos)}, desse total:')\n",
        "print(f'{len(com_ambos[com_ambos[\"Sexo\"].str.contains(\"m\", case = False)])} são machos e {len(com_ambos[com_ambos[\"Sexo\"].str.contains(\"f\", case = False)])} são fêmeas :')\n",
        "# for i in range(0,len(idades)):\n",
        "#   a =com_ambos['Idade '].str.contains(idades[i],case = False).sum()\n",
        "#   if a != 0:\n",
        "#     print(f'Nº de animais com {idades[i]} e trombocitopenia e agregados plaquetarios: {a} animais')\n",
        "idade_agreg = list(com_ambos['Idade '])\n",
        "idade_agreg= [x.strip(' ') for x in idade_agreg]\n",
        "idade_agreg=[x.lower() for x in idade_agreg]\n",
        "if idade_agreg.count('n. i.') > 0:\n",
        "  print(f'O numero de animais com idades inválidas é igual a: {idade_agreg.count(\"n. i.\")}')\n",
        "for i in range(0,len(idades)):\n",
        "  b = idade_agreg.count(idades[i])\n",
        "  if b != 0:\n",
        "    print(f'animais com {idades[i]}: {idade_agreg.count(idades[i])}')\n",
        "\n",
        "alt = list(com_ambos['Outras alterações'])\n",
        "for i in range(0,len(tipos_de_alteracoes_unicas)):\n",
        "  b = alt.count(tipos_de_alteracoes_unicas[i])\n",
        "  if b != 0:\n",
        "    print(f'animais com {tipos_de_alteracoes_unicas[i]}: {alt.count(tipos_de_alteracoes_unicas[i])}')"
      ],
      "metadata": {
        "colab": {
          "base_uri": "https://localhost:8080/"
        },
        "id": "f-xIutNzTm9m",
        "outputId": "4ce38dd0-2d4d-4e47-8677-7f9382ff2560",
        "cellView": "form"
      },
      "execution_count": 65,
      "outputs": [
        {
          "output_type": "stream",
          "name": "stdout",
          "text": [
            "Total de animais com trombocitopenia e agregados plaquetarios: 45, desse total:\n",
            "16 são machos e 29 são fêmeas :\n",
            "animais com 2 meses: 1\n",
            "animais com 3 meses: 1\n",
            "animais com 5 meses: 2\n",
            "animais com 6 meses: 2\n",
            "animais com 8 meses: 1\n",
            "animais com 9 meses: 1\n",
            "animais com 10 meses: 2\n",
            "animais com 1 ano: 13\n",
            "animais com 2 anos: 9\n",
            "animais com 3 anos: 3\n",
            "animais com 4 anos: 1\n",
            "animais com 5 anos: 4\n",
            "animais com 7 anos: 3\n",
            "animais com 10 anos: 2\n",
            "animais com LEUCOCITOSE POR NEUTROFILIA : 1\n",
            "animais com LEUCOCITOSE POR EOSINOFILIA: 1\n",
            "animais com MACROPLAQUETAS E HEMACIAS AGLUTINADAS: 1\n",
            "animais com LEUCOSITOSE POR EOSINOFILIA : 1\n",
            "animais com LEUCOCITOSE POR NEUTROFILIA: 2\n",
            "animais com HEMACIAS AGLUTINADAS: 1\n",
            "animais com LEUCOCITOSE POR NEUTROFILIA E POLICITEMIA: 1\n",
            "animais com LEUCOCITOSE POR EOSINOFILIA : 1\n",
            "animais com LEUCOCITOSE POR LINFOCITOSE : 1\n",
            "animais com LEUCOCITOSE POR EOSINOFILIA E NEUTROFILIA : 2\n",
            "animais com LEUCOCITOSE POR NEUTROFILIA E MACROPLAQUETAS: 2\n",
            "animais com MACROPLAQUETAS: 3\n",
            "animais com LEUCOCITOSE POR NEUTROFILIA E EOSINOFILIA: 1\n",
            "animais com LEUCOCITOSE POR LINFOCITOSE E EOSINOFILIA: 2\n"
          ]
        }
      ]
    },
    {
      "cell_type": "code",
      "source": [
        "#@title Animais sem trombocitopenia e sem agregados\n",
        "print(f'Total de animais sem trombocitopenia e sem agregados: {len(com_nenhuma)}, desse total:')\n",
        "print(f'{len(sem_nada)} não possui nenhum dos dois sintomas, e nenhuma outra alteração;')\n",
        "print(f'Dos que não possuem alterações, {len(sem_nada[sem_nada[\"Sexo\"].str.contains(\"m\", case = False)])} são machos e {len(sem_nada[sem_nada[\"Sexo\"].str.contains(\"f\", case = False)])} são fêmeas;')\n",
        "print(f'Dos que possuem alterações, {len(com_nenhuma_filtrada[com_nenhuma_filtrada[\"Sexo\"].str.contains(\"m\", case = False)])} são machos e {len(com_nenhuma_filtrada[com_nenhuma_filtrada[\"Sexo\"].str.contains(\"f\", case = False)])} são fêmeas;')\n",
        "idade_agreg = list(com_nenhuma['Idade '])\n",
        "idade_agreg= [x.strip(' ') for x in idade_agreg]\n",
        "idade_agreg=[x.lower() for x in idade_agreg]\n",
        "if idade_agreg.count('n. i.') > 0:\n",
        "  print(f'O numero de animais com idades inválidas é igual a: {idade_agreg.count(\"n. i.\")}')\n",
        "for i in range(0,len(idades)):\n",
        "  b = idade_agreg.count(idades[i])\n",
        "  if b != 0:\n",
        "    print(f'animais com {idades[i]}: {idade_agreg.count(idades[i])}')"
      ],
      "metadata": {
        "colab": {
          "base_uri": "https://localhost:8080/"
        },
        "id": "jDfI5U-sUWms",
        "outputId": "d2ff0ef7-9197-4867-be7d-343f5c67e5e7",
        "cellView": "form"
      },
      "execution_count": 66,
      "outputs": [
        {
          "output_type": "stream",
          "name": "stdout",
          "text": [
            "Total de animais sem trombocitopenia e sem agregados: 22, desse total:\n",
            "10 não possui nenhum dos dois sintomas, e nenhuma outra alteração;\n",
            "Dos que não possuem alterações, 3 são machos e 7 são fêmeas;\n",
            "Dos que possuem alterações, 7 são machos e 5 são fêmeas;\n",
            "animais com 2 meses: 1\n",
            "animais com 5 meses: 1\n",
            "animais com 6 meses: 1\n",
            "animais com 8 meses: 3\n",
            "animais com 10 meses: 1\n",
            "animais com 11 meses: 1\n",
            "animais com 1 ano: 3\n",
            "animais com 2 anos: 3\n",
            "animais com 3 anos: 2\n",
            "animais com 4 anos: 1\n",
            "animais com 5 anos: 1\n",
            "animais com 6 anos: 1\n",
            "animais com 9 anos: 2\n",
            "animais com 11 anos: 1\n"
          ]
        }
      ]
    }
  ]
}